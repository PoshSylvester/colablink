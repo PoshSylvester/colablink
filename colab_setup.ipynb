{
  "cells": [
    {
      "cell_type": "markdown",
      "metadata": {},
      "source": [
        "# ColabLink Setup\n",
        "\n",
        "This notebook sets up your Google Colab runtime to accept connections from your local machine.\n",
        "\n",
        "## What This Does\n",
        "\n",
        "1. Installs ColabLink on this Colab instance\n",
        "2. Sets up SSH server for secure connection\n",
        "3. Creates a tunnel so your local machine can connect\n",
        "4. Provides connection instructions\n",
        "\n",
        "## After Setup\n",
        "\n",
        "You'll be able to:\n",
        "- Run code from your local terminal on this Colab GPU\n",
        "- Keep all your files local\n",
        "- See real-time output in your local terminal\n",
        "- Use VS Code, Cursor, or any IDE locally\n",
        "\n",
        "---\n",
        "\n",
        "## Instructions\n",
        "\n",
        "1. Run the cell below\n",
        "2. Copy the connection command from the output\n",
        "3. Paste it in your local terminal\n",
        "4. Start executing code on Colab GPU from your local machine!\n",
        "\n",
        "Keep this notebook running to maintain the connection.\n"
      ]
    },
    {
      "cell_type": "code",
      "execution_count": null,
      "metadata": {},
      "outputs": [],
      "source": [
        "# Install ColabLink\n",
        "!pip install -q git+https://github.com/PoshSylvester/colablink.git\n",
        "\n",
        "print(\"ColabLink installed successfully!\")\n"
      ]
    },
    {
      "cell_type": "code",
      "execution_count": null,
      "metadata": {},
      "outputs": [],
      "source": [
        "from colablink import ColabRuntime\n",
        "\n",
        "# Configuration\n",
        "PASSWORD = \"your_secure_password_here\"  # Change this to a strong password\n",
        "NGROK_TOKEN = None  # Optional: Get free token at https://ngrok.com for more stable connections\n",
        "\n",
        "# Setup runtime\n",
        "runtime = ColabRuntime(\n",
        "    password=PASSWORD,\n",
        "    ngrok_token=NGROK_TOKEN\n",
        ")\n",
        "\n",
        "# Run setup\n",
        "runtime.setup()\n",
        "\n",
        "# Keep the runtime alive\n",
        "# This cell will keep running - don't interrupt it!\n",
        "runtime.keep_alive()\n"
      ]
    },
    {
      "cell_type": "markdown",
      "metadata": {},
      "source": [
        "## Optional: Get ngrok Token\n",
        "\n",
        "For more stable connections (recommended):\n",
        "\n",
        "1. Go to https://ngrok.com and sign up (free)\n",
        "2. Get your authtoken from dashboard\n",
        "3. Set `NGROK_TOKEN = \"your_token_here\"` in the cell above\n",
        "4. Rerun the setup cell\n",
        "\n",
        "## Next Steps\n",
        "\n",
        "After setup completes:\n",
        "\n",
        "1. Install colablink on your local machine:\n",
        "   ```bash\n",
        "   pip install colablink\n",
        "   ```\n",
        "\n",
        "2. Copy the connection command from above and run it locally\n",
        "\n",
        "3. Start using Colab GPU from your local terminal:\n",
        "   ```bash\n",
        "   colablink exec python train.py\n",
        "   colablink exec nvidia-smi\n",
        "   ```\n",
        "\n",
        "4. Or start an interactive shell:\n",
        "   ```bash\n",
        "   colablink shell\n",
        "   ```\n"
      ]
    }
  ],
  "metadata": {
    "language_info": {
      "name": "python"
    }
  },
  "nbformat": 4,
  "nbformat_minor": 2
}
